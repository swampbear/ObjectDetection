{
 "cells": [
  {
   "cell_type": "markdown",
   "metadata": {},
   "source": [
    "# Pose Estimation with MoveNet\n",
    "\n",
    "This Jupyter Notebook demonstrates how to perform real-time pose estimation using the MoveNet model from TensorFlow Lite. The notebook is developed based on the tutorial provided by Nicholas Renotte, which can be found [here](https://www.youtube.com/watch?v=SSW9LzOJSus).\n",
    "\n",
    "## Workflow Overview\n",
    "\n",
    "1. **Import Libraries**: Essential libraries such as TensorFlow, NumPy, Matplotlib, and OpenCV are imported.\n",
    "2. **Load MoveNet Model**: The MoveNet model is loaded from TensorFlow Hub.\n",
    "3. **Define Helper Functions**: Functions to draw keypoints and connections on the frames are defined.\n",
    "4. **Real-time Pose Estimation**: Capture video from the webcam, process each frame to detect keypoints, and render the keypoints and connections on the frame.\n",
    "\n",
    "## Variables\n",
    "\n",
    "- **EDGES**: A dictionary defining the connections between keypoints.\n",
    "- **cap**: An OpenCV VideoCapture object for capturing video from the webcam.\n",
    "- **frame**: A NumPy array representing the current frame captured from the webcam.\n",
    "- **img**: A TensorFlow tensor representing the resized and padded image.\n",
    "- **input_details**: A list containing details about the input tensor for the MoveNet model.\n",
    "- **input_image**: A TensorFlow tensor representing the input image for the MoveNet model.\n",
    "- **interpreter**: A TensorFlow Lite interpreter object for running the MoveNet model.\n",
    "- **keypoints_with_scores**: A NumPy array containing the detected keypoints and their confidence scores.\n",
    "- **output_details**: A list containing details about the output tensor from the MoveNet model.\n",
    "- **ret**: A boolean indicating whether the frame was successfully captured from the webcam.\n",
    "\n",
    "This notebook provides a comprehensive guide to implementing real-time pose estimation using the MoveNet model, making it a valuable resource for anyone interested in computer vision and pose estimation."
   ]
  },
  {
   "cell_type": "code",
   "execution_count": 2,
   "metadata": {},
   "outputs": [],
   "source": [
    "import tensorflow as tf\n",
    "import numpy as np\n",
    "from matplotlib import pyplot as plt\n",
    "import cv2"
   ]
  },
  {
   "cell_type": "code",
   "execution_count": 3,
   "metadata": {},
   "outputs": [
    {
     "name": "stderr",
     "output_type": "stream",
     "text": [
      "INFO: Created TensorFlow Lite XNNPACK delegate for CPU.\n"
     ]
    }
   ],
   "source": [
    "interpreter = tf.lite.Interpreter(model_path=\"3.tflite\")\n",
    "interpreter.allocate_tensors()"
   ]
  },
  {
   "cell_type": "code",
   "execution_count": 4,
   "metadata": {},
   "outputs": [
    {
     "data": {
      "text/plain": [
       "[{'name': 'serving_default_input:0',\n",
       "  'index': 0,\n",
       "  'shape': array([  1, 192, 192,   3], dtype=int32),\n",
       "  'shape_signature': array([  1, 192, 192,   3], dtype=int32),\n",
       "  'dtype': numpy.float32,\n",
       "  'quantization': (0.0, 0),\n",
       "  'quantization_parameters': {'scales': array([], dtype=float32),\n",
       "   'zero_points': array([], dtype=int32),\n",
       "   'quantized_dimension': 0},\n",
       "  'sparsity_parameters': {}}]"
      ]
     },
     "execution_count": 4,
     "metadata": {},
     "output_type": "execute_result"
    }
   ],
   "source": [
    "interpreter.get_input_details()"
   ]
  },
  {
   "cell_type": "code",
   "execution_count": 14,
   "metadata": {},
   "outputs": [],
   "source": [
    "def draw_keypoints(frame, keypoints, confidence_threshold):\n",
    "    y, x, c = frame.shape\n",
    "    shape = np.squeeze(np.multiply(keypoints, [y, x, 1]))\n",
    "\n",
    "    for kp in shape:\n",
    "        ky, kx = int(kp[0]), int(kp[1])\n",
    "        if confidence_threshold > 0.2:\n",
    "            cv2.circle(frame, (kx, ky), 10, (255, 0, 0), -1)"
   ]
  },
  {
   "cell_type": "code",
   "execution_count": 15,
   "metadata": {},
   "outputs": [],
   "source": [
    "def draw_connections(frame, keypoints, edges, confidence_threshold):\n",
    "    y, x, c = frame.shape\n",
    "    shaped = np.squeeze(np.multiply(keypoints, [y,x,1]))\n",
    "    \n",
    "    for edge, color in edges.items():\n",
    "        p1, p2 = edge\n",
    "        y1, x1, c1 = shaped[p1]\n",
    "        y2, x2, c2 = shaped[p2]\n",
    "        \n",
    "        if (c1 > confidence_threshold) & (c2 > confidence_threshold):      \n",
    "            cv2.line(frame, (int(x1), int(y1)), (int(x2), int(y2)), (0,0,255), 5)"
   ]
  },
  {
   "cell_type": "code",
   "execution_count": 16,
   "metadata": {},
   "outputs": [],
   "source": [
    "EDGES = {\n",
    "    (0, 1): 'm',\n",
    "    (0, 2): 'c',\n",
    "    (1, 3): 'm',\n",
    "    (2, 4): 'c',\n",
    "    (0, 5): 'm',\n",
    "    (0, 6): 'c',\n",
    "    (5, 7): 'm',\n",
    "    (7, 9): 'm',\n",
    "    (6, 8): 'c',\n",
    "    (8, 10): 'c',\n",
    "    (5, 6): 'y',\n",
    "    (5, 11): 'm',\n",
    "    (6, 12): 'c',\n",
    "    (11, 12): 'y',\n",
    "    (11, 13): 'm',\n",
    "    (13, 15): 'm',\n",
    "    (12, 14): 'c',\n",
    "    (14, 16): 'c'\n",
    "}"
   ]
  },
  {
   "cell_type": "markdown",
   "metadata": {},
   "source": [
    "This cell captures video from the webcam and performs real-time pose estimation using the MoveNet model. The steps are as follows:\n",
    "\n",
    "1. **Capture Video**: Initialize the webcam using `cv2.VideoCapture(0)` and continuously capture frames while the webcam is open.\n",
    "2. **Reshape Image**: Copy the captured frame and resize it to the required dimensions (192x192) using TensorFlow's `resize_with_pad` function. Convert the resized image to a TensorFlow tensor of type `float32`.\n",
    "3. **Setup Input and Output**: Retrieve the input and output details of the MoveNet model interpreter.\n",
    "4. **Make Predictions**: Set the input tensor for the interpreter with the reshaped image and invoke the interpreter to make predictions. Extract the keypoints and their confidence scores from the output tensor.\n",
    "5. **Rendering**: Draw the keypoints and connections on the frame using the `draw_connections` and `draw_keypoints` functions.\n",
    "6. **Display Frame**: Display the processed frame with keypoints and connections using OpenCV's `imshow` function.\n",
    "7. **Exit Condition**: Break the loop and release the webcam if the 'q' key is pressed.\n",
    "8. **Cleanup**: Release the webcam and close all OpenCV windows."
   ]
  },
  {
   "cell_type": "code",
   "execution_count": 17,
   "metadata": {},
   "outputs": [],
   "source": [
    "cap = cv2.VideoCapture(0)\n",
    "while cap.isOpened():\n",
    "    ret, frame = cap.read()\n",
    "    \n",
    "    # Reshape image\n",
    "    img = frame.copy()\n",
    "    img = tf.image.resize_with_pad(np.expand_dims(img, axis=0), 192,192)\n",
    "    input_image = tf.cast(img, dtype=tf.float32)\n",
    "    \n",
    "    # Setup input and output \n",
    "    input_details = interpreter.get_input_details()\n",
    "    output_details = interpreter.get_output_details()\n",
    "    \n",
    "    # Make predictions \n",
    "    interpreter.set_tensor(input_details[0]['index'], np.array(input_image))\n",
    "    interpreter.invoke()\n",
    "    keypoints_with_scores = interpreter.get_tensor(output_details[0]['index'])\n",
    "    \n",
    "    # Rendering \n",
    "    draw_connections(frame, keypoints_with_scores, EDGES, 0.4)\n",
    "    draw_keypoints(frame, keypoints_with_scores, 0.4)\n",
    "    \n",
    "    cv2.imshow('MoveNet Lightning', frame)\n",
    "    \n",
    "    if cv2.waitKey(10) & 0xFF==ord('q'):\n",
    "        break\n",
    "        \n",
    "cap.release()\n",
    "cv2.destroyAllWindows()"
   ]
  }
 ],
 "metadata": {
  "kernelspec": {
   "display_name": "env",
   "language": "python",
   "name": "python3"
  },
  "language_info": {
   "codemirror_mode": {
    "name": "ipython",
    "version": 3
   },
   "file_extension": ".py",
   "mimetype": "text/x-python",
   "name": "python",
   "nbconvert_exporter": "python",
   "pygments_lexer": "ipython3",
   "version": "3.8.20"
  }
 },
 "nbformat": 4,
 "nbformat_minor": 2
}
